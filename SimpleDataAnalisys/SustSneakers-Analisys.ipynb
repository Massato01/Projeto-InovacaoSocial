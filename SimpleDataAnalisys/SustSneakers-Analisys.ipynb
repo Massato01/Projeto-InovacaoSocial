{
 "cells": [
  {
   "cell_type": "code",
   "execution_count": 40,
   "id": "4fe94b99",
   "metadata": {},
   "outputs": [],
   "source": [
    "import pandas as pd\n",
    "import numpy as np\n",
    "import matplotlib.pyplot as plt\n",
    "from sklearn.linear_model import LogisticRegression, LinearRegression"
   ]
  },
  {
   "cell_type": "code",
   "execution_count": 41,
   "id": "a537f3da",
   "metadata": {},
   "outputs": [
    {
     "data": {
      "text/plain": [
       "(70, 6)"
      ]
     },
     "execution_count": 41,
     "metadata": {},
     "output_type": "execute_result"
    }
   ],
   "source": [
    "data = pd.read_csv('Dados - ProjetoSociologia.csv')\n",
    "\n",
    "data.shape"
   ]
  },
  {
   "cell_type": "code",
   "execution_count": 42,
   "id": "a39351ea",
   "metadata": {},
   "outputs": [
    {
     "data": {
      "text/html": [
       "<div>\n",
       "<style scoped>\n",
       "    .dataframe tbody tr th:only-of-type {\n",
       "        vertical-align: middle;\n",
       "    }\n",
       "\n",
       "    .dataframe tbody tr th {\n",
       "        vertical-align: top;\n",
       "    }\n",
       "\n",
       "    .dataframe thead th {\n",
       "        text-align: right;\n",
       "    }\n",
       "</style>\n",
       "<table border=\"1\" class=\"dataframe\">\n",
       "  <thead>\n",
       "    <tr style=\"text-align: right;\">\n",
       "      <th></th>\n",
       "      <th>Carimbo de data/hora</th>\n",
       "      <th>A sola do seu tênis suja muito quando você sai de casa?</th>\n",
       "      <th>Você costuma lavar o seu tênis?</th>\n",
       "      <th>Você anda em casa com o tênis calçado?</th>\n",
       "      <th>Qual tipo de tênis você mais usa?</th>\n",
       "      <th>Você compraria um tênis com solas trocáveis?</th>\n",
       "    </tr>\n",
       "  </thead>\n",
       "  <tbody>\n",
       "    <tr>\n",
       "      <th>0</th>\n",
       "      <td>2021/11/16 12:17:48 AM GMT-3</td>\n",
       "      <td>Sim</td>\n",
       "      <td>Sim</td>\n",
       "      <td>Não</td>\n",
       "      <td>Casual</td>\n",
       "      <td>Sim</td>\n",
       "    </tr>\n",
       "    <tr>\n",
       "      <th>1</th>\n",
       "      <td>2021/11/16 12:18:11 AM GMT-3</td>\n",
       "      <td>Sim</td>\n",
       "      <td>Não</td>\n",
       "      <td>Não</td>\n",
       "      <td>Casual</td>\n",
       "      <td>Sim</td>\n",
       "    </tr>\n",
       "    <tr>\n",
       "      <th>2</th>\n",
       "      <td>2021/11/16 12:18:31 AM GMT-3</td>\n",
       "      <td>Sim</td>\n",
       "      <td>Sim</td>\n",
       "      <td>Sim</td>\n",
       "      <td>Casual</td>\n",
       "      <td>Não</td>\n",
       "    </tr>\n",
       "    <tr>\n",
       "      <th>3</th>\n",
       "      <td>2021/11/16 12:18:51 AM GMT-3</td>\n",
       "      <td>Sim</td>\n",
       "      <td>Não</td>\n",
       "      <td>Não</td>\n",
       "      <td>Casual</td>\n",
       "      <td>Não</td>\n",
       "    </tr>\n",
       "    <tr>\n",
       "      <th>4</th>\n",
       "      <td>2021/11/16 12:19:06 AM GMT-3</td>\n",
       "      <td>Sim</td>\n",
       "      <td>Não</td>\n",
       "      <td>Não</td>\n",
       "      <td>Esportivo</td>\n",
       "      <td>Sim</td>\n",
       "    </tr>\n",
       "  </tbody>\n",
       "</table>\n",
       "</div>"
      ],
      "text/plain": [
       "           Carimbo de data/hora  \\\n",
       "0  2021/11/16 12:17:48 AM GMT-3   \n",
       "1  2021/11/16 12:18:11 AM GMT-3   \n",
       "2  2021/11/16 12:18:31 AM GMT-3   \n",
       "3  2021/11/16 12:18:51 AM GMT-3   \n",
       "4  2021/11/16 12:19:06 AM GMT-3   \n",
       "\n",
       "  A sola do seu tênis suja muito quando você sai de casa?  \\\n",
       "0                                                Sim        \n",
       "1                                                Sim        \n",
       "2                                                Sim        \n",
       "3                                                Sim        \n",
       "4                                                Sim        \n",
       "\n",
       "  Você costuma lavar o seu tênis? Você anda em casa com o tênis calçado?  \\\n",
       "0                             Sim                                    Não   \n",
       "1                             Não                                    Não   \n",
       "2                             Sim                                    Sim   \n",
       "3                             Não                                    Não   \n",
       "4                             Não                                    Não   \n",
       "\n",
       "  Qual tipo de tênis você mais usa?  \\\n",
       "0                            Casual   \n",
       "1                            Casual   \n",
       "2                            Casual   \n",
       "3                            Casual   \n",
       "4                         Esportivo   \n",
       "\n",
       "  Você compraria um tênis com solas trocáveis?  \n",
       "0                                          Sim  \n",
       "1                                          Sim  \n",
       "2                                          Não  \n",
       "3                                          Não  \n",
       "4                                          Sim  "
      ]
     },
     "execution_count": 42,
     "metadata": {},
     "output_type": "execute_result"
    }
   ],
   "source": [
    "data.head()"
   ]
  },
  {
   "cell_type": "code",
   "execution_count": 43,
   "id": "5e29e480",
   "metadata": {},
   "outputs": [],
   "source": [
    "data.columns = ['apagar' ,'DirtyShoes', 'WashShoes', 'ShoesAtHome', 'ShoesType', 'BuySustShoes']"
   ]
  },
  {
   "cell_type": "code",
   "execution_count": 44,
   "id": "af4055f8",
   "metadata": {},
   "outputs": [],
   "source": [
    "data = data.drop(['apagar'], axis=1)"
   ]
  },
  {
   "cell_type": "code",
   "execution_count": 45,
   "id": "e1f6e1ef",
   "metadata": {},
   "outputs": [
    {
     "name": "stdout",
     "output_type": "stream",
     "text": [
      "\n",
      "Pessoas que sujam muito o tenis:\n",
      " DirtyShoes\n",
      "Não    20\n",
      "Sim    50\n",
      "dtype: int64\n",
      "\n",
      "Pessoas que costuma lavar o tenis:\n",
      " WashShoes\n",
      "Não    15\n",
      "Sim    55\n",
      "dtype: int64\n",
      "\n",
      "Pessoas que usam tenis em casa:\n",
      " ShoesAtHome\n",
      "Não    60\n",
      "Sim    10\n",
      "dtype: int64\n",
      "\n",
      "Preferencia do tipo de tenis:\n",
      " ShoesType\n",
      "Casual       37\n",
      "Esportivo    33\n",
      "dtype: int64\n",
      "\n",
      "Pessoas que comprariam o tenis:\n",
      " BuySustShoes\n",
      "Não    16\n",
      "Sim    54\n",
      "dtype: int64\n",
      "\n"
     ]
    }
   ],
   "source": [
    "dirty_shoes = data.groupby(['DirtyShoes']).size()\n",
    "wash_shoes = data.groupby(['WashShoes']).size()\n",
    "shoes_at_home = data.groupby(['ShoesAtHome']).size()\n",
    "shoes_type = data.groupby(['ShoesType']).size()\n",
    "buy_shoes = data.groupby(['BuySustShoes']).size()\n",
    "\n",
    "print(f'''\n",
    "Pessoas que sujam muito o tenis:\\n {dirty_shoes}\\n\n",
    "Pessoas que costuma lavar o tenis:\\n {wash_shoes}\\n\n",
    "Pessoas que usam tenis em casa:\\n {shoes_at_home}\\n\n",
    "Preferencia do tipo de tenis:\\n {shoes_type}\\n\n",
    "Pessoas que comprariam o tenis:\\n {buy_shoes}\n",
    "''')"
   ]
  },
  {
   "cell_type": "code",
   "execution_count": 46,
   "id": "80ccfe88",
   "metadata": {},
   "outputs": [],
   "source": [
    "# Transformando \"Sim/Nao\" em 1/0\n",
    "colunas = data.columns\n",
    "\n",
    "for index in range(len(colunas)):\n",
    "    data.loc[data[colunas[index]] == 'Sim', f'{colunas[index]}'] = 1\n",
    "    data.loc[data[colunas[index]] == 'Não', f'{colunas[index]}'] = 0\n",
    "\n",
    "data.loc[data['ShoesType'] == 'Casual', 'ShoesType'] = 1\n",
    "data.loc[data['ShoesType'] == 'Esportivo', 'ShoesType'] = 0"
   ]
  },
  {
   "cell_type": "code",
   "execution_count": 47,
   "id": "a61d6e07",
   "metadata": {},
   "outputs": [
    {
     "data": {
      "text/html": [
       "<div>\n",
       "<style scoped>\n",
       "    .dataframe tbody tr th:only-of-type {\n",
       "        vertical-align: middle;\n",
       "    }\n",
       "\n",
       "    .dataframe tbody tr th {\n",
       "        vertical-align: top;\n",
       "    }\n",
       "\n",
       "    .dataframe thead th {\n",
       "        text-align: right;\n",
       "    }\n",
       "</style>\n",
       "<table border=\"1\" class=\"dataframe\">\n",
       "  <thead>\n",
       "    <tr style=\"text-align: right;\">\n",
       "      <th></th>\n",
       "      <th>DirtyShoes</th>\n",
       "      <th>WashShoes</th>\n",
       "      <th>ShoesAtHome</th>\n",
       "      <th>ShoesType</th>\n",
       "      <th>BuySustShoes</th>\n",
       "    </tr>\n",
       "  </thead>\n",
       "  <tbody>\n",
       "    <tr>\n",
       "      <th>0</th>\n",
       "      <td>1</td>\n",
       "      <td>1</td>\n",
       "      <td>0</td>\n",
       "      <td>1</td>\n",
       "      <td>1</td>\n",
       "    </tr>\n",
       "    <tr>\n",
       "      <th>1</th>\n",
       "      <td>1</td>\n",
       "      <td>0</td>\n",
       "      <td>0</td>\n",
       "      <td>1</td>\n",
       "      <td>1</td>\n",
       "    </tr>\n",
       "    <tr>\n",
       "      <th>2</th>\n",
       "      <td>1</td>\n",
       "      <td>1</td>\n",
       "      <td>1</td>\n",
       "      <td>1</td>\n",
       "      <td>0</td>\n",
       "    </tr>\n",
       "    <tr>\n",
       "      <th>3</th>\n",
       "      <td>1</td>\n",
       "      <td>0</td>\n",
       "      <td>0</td>\n",
       "      <td>1</td>\n",
       "      <td>0</td>\n",
       "    </tr>\n",
       "    <tr>\n",
       "      <th>4</th>\n",
       "      <td>1</td>\n",
       "      <td>0</td>\n",
       "      <td>0</td>\n",
       "      <td>0</td>\n",
       "      <td>1</td>\n",
       "    </tr>\n",
       "  </tbody>\n",
       "</table>\n",
       "</div>"
      ],
      "text/plain": [
       "  DirtyShoes WashShoes ShoesAtHome ShoesType BuySustShoes\n",
       "0          1         1           0         1            1\n",
       "1          1         0           0         1            1\n",
       "2          1         1           1         1            0\n",
       "3          1         0           0         1            0\n",
       "4          1         0           0         0            1"
      ]
     },
     "execution_count": 47,
     "metadata": {},
     "output_type": "execute_result"
    }
   ],
   "source": [
    "data.head()"
   ]
  },
  {
   "cell_type": "code",
   "execution_count": 48,
   "id": "e175541f",
   "metadata": {},
   "outputs": [],
   "source": [
    "# # Algoritmo para \n",
    "# var_names = {\n",
    "#     'DirtyShoes' : [], 'DirtyShoes_negative' : [],\n",
    "#     'WashShoes' : [], 'WashShoes_negative' : [],\n",
    "#     'ShoesAtHome' : [], 'ShoesAtHome_negative' : [],\n",
    "#     'BuySustShoes' : [], 'BuySustShoes_negative' : [],\n",
    "#     'ShoesType_Casual' : [], 'ShoesType_Esportivo' : []\n",
    "# }\n",
    "\n",
    "# colunas = data.columns\n",
    "\n",
    "# for index in range(len(colunas)):\n",
    "#     for key, value in var_names.items():\n",
    "#         if colunas[index] == key:\n",
    "#             value.append((data[colunas[index]].values == 1).sum())\n",
    "#         elif f'{colunas[index]}_negative' == key:\n",
    "#             value.append((data[colunas[index]].values == 0).sum())\n",
    "\n",
    "# for key, value in var_names.items():\n",
    "#     if key == 'ShoesType_Casual':\n",
    "#         value.append((data['ShoesType'].values == 1).sum())\n",
    "#     elif key == 'ShoesType_Esportivo':\n",
    "#         value.append((data['ShoesType'].values == 0).sum())\n",
    "\n",
    "# for k,v in var_names.items():\n",
    "#     print(f'Numero de pessoas {k}: {v[0]}\\n')"
   ]
  },
  {
   "cell_type": "code",
   "execution_count": 49,
   "id": "373700af",
   "metadata": {},
   "outputs": [],
   "source": [
    "# colunas = data.columns\n",
    "\n",
    "# for index in range(len(colunas)):\n",
    "#     print(f'Numero de pessoas {colunas[index]} positivo: {(data[colunas[index]].values == 1).sum()}')\n",
    "#     print(f'Numero de pessoas {colunas[index]} negativo: {(data[colunas[index]].values == 0).sum()}\\n')\n"
   ]
  },
  {
   "cell_type": "code",
   "execution_count": 50,
   "id": "c01ddbe7",
   "metadata": {},
   "outputs": [
    {
     "name": "stdout",
     "output_type": "stream",
     "text": [
      "ShoesType\n",
      "0    21\n",
      "1    29\n",
      "Name: DirtyShoes, dtype: int64\n"
     ]
    },
    {
     "data": {
      "image/png": "[encoded data removed]",
      "text/plain": [
       "<Figure size 432x288 with 1 Axes>"
      ]
     },
     "metadata": {
      "needs_background": "light"
     },
     "output_type": "display_data"
    },
    {
     "data": {
      "text/plain": [
       "'Baseado nos dados, pessoas que usam tênis casual sujam mais'"
      ]
     },
     "execution_count": 50,
     "metadata": {},
     "output_type": "execute_result"
    }
   ],
   "source": [
    "shoes_type_agrupado = data.groupby(['ShoesType'])['DirtyShoes'].sum()\n",
    "\n",
    "print(shoes_type_agrupado)\n",
    "\n",
    "shoes_type_agrupado.plot.bar(color='brown')\n",
    "\n",
    "plt.title('Pessoas que sujam muito o tênis quando\\nsaem de casa, baseado no tipo de tenis', fontsize=14, fontweight='bold')\n",
    "plt.xlabel('Tipo de Tênis')\n",
    "plt.ylabel('Número de pessoas')\n",
    "\n",
    "x_locs, x_labels = plt.xticks(np.arange(2), ['Esportivo', 'Casual'], rotation=0)\n",
    "\n",
    "plt.show()\n",
    "\n",
    "'''Baseado nos dados, pessoas que usam tênis casual sujam mais'''"
   ]
  },
  {
   "cell_type": "code",
   "execution_count": 51,
   "id": "eb9a875a",
   "metadata": {},
   "outputs": [
    {
     "name": "stdout",
     "output_type": "stream",
     "text": [
      "WashShoes\n",
      "0    11\n",
      "1    39\n",
      "Name: DirtyShoes, dtype: int64\n"
     ]
    },
    {
     "data": {
      "image/png": "[encoded data removed]",
      "text/plain": [
       "<Figure size 432x288 with 1 Axes>"
      ]
     },
     "metadata": {
      "needs_background": "light"
     },
     "output_type": "display_data"
    },
    {
     "data": {
      "text/plain": [
       "'A partir dos dados 78% das pessoas costumam lavar o tênis. Podemos concluir que uma sola removível facilitaria muito'"
      ]
     },
     "execution_count": 51,
     "metadata": {},
     "output_type": "execute_result"
    }
   ],
   "source": [
    "wash_dirtyshoes = data.groupby(['WashShoes'])['DirtyShoes'].sum()\n",
    "print(wash_dirtyshoes)\n",
    "\n",
    "wash_dirtyshoes.plot.bar()\n",
    "\n",
    "plt.title('Pessoas que costumam lavar o tênis', fontsize=14, fontweight='bold')\n",
    "plt.xlabel('')\n",
    "plt.ylabel('Número de pessoas')\n",
    "\n",
    "x_locs, x_labels = plt.xticks(np.arange(2), ['Não', 'Sim'], rotation=0)\n",
    "\n",
    "\n",
    "plt.show()\n",
    "\n",
    "'''A partir dos dados 78% das pessoas costumam lavar o tênis. Podemos concluir que uma sola removível facilitaria muito'''"
   ]
  },
  {
   "cell_type": "code",
   "execution_count": 52,
   "id": "abb9be78",
   "metadata": {},
   "outputs": [
    {
     "data": {
      "text/plain": [
       "<matplotlib.legend.Legend at 0x1b11b90d790>"
      ]
     },
     "execution_count": 52,
     "metadata": {},
     "output_type": "execute_result"
    },
    {
     "data": {
      "image/png": "[encoded data removed]",
      "text/plain": [
       "<Figure size 432x288 with 1 Axes>"
      ]
     },
     "metadata": {
      "needs_background": "light"
     },
     "output_type": "display_data"
    }
   ],
   "source": [
    "agrupado1 = data.groupby(['DirtyShoes']).size()\n",
    "agrupado2 = data.groupby(['WashShoes']).size()\n",
    "\n",
    "x1 = np.arange(len(agrupado1))\n",
    "x2 = [x + 0.25 for x in x1]\n",
    "\n",
    "plt.bar(x1, agrupado1, width=0.25, label='Sujam muito o tênis', color='deepskyblue')\n",
    "plt.bar(x2, agrupado2, width=0.25, label='Lavam o tênis', color='mediumseagreen')\n",
    "\n",
    "respostas = ['Não', 'Sim']\n",
    "plt.xticks([x + 0.10 for x in range(len(agrupado1))], respostas)\n",
    "\n",
    "plt.legend()"
   ]
  },
  {
   "cell_type": "code",
   "execution_count": 53,
   "id": "b5102f80",
   "metadata": {},
   "outputs": [
    {
     "data": {
      "text/plain": [
       "<AxesSubplot:xlabel='BuySustShoes'>"
      ]
     },
     "execution_count": 53,
     "metadata": {},
     "output_type": "execute_result"
    },
    {
     "data": {
      "image/png": "[encoded data removed]",
      "text/plain": [
       "<Figure size 432x288 with 1 Axes>"
      ]
     },
     "metadata": {
      "needs_background": "light"
     },
     "output_type": "display_data"
    }
   ],
   "source": [
    "agrupado = data.groupby(['BuySustShoes']).size()\n",
    "agrupado\n",
    "\n",
    "agrupado.plot.bar(color='green')"
   ]
  }
 ],
 "metadata": {
  "kernelspec": {
   "display_name": "Python 3",
   "language": "python",
   "name": "python3"
  },
  "language_info": {
   "codemirror_mode": {
    "name": "ipython",
    "version": 3
   },
   "file_extension": ".py",
   "mimetype": "text/x-python",
   "name": "python",
   "nbconvert_exporter": "python",
   "pygments_lexer": "ipython3",
   "version": "3.8.8"
  }
 },
 "nbformat": 4,
 "nbformat_minor": 5
}
