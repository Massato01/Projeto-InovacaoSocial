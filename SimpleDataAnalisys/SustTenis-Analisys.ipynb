{
 "cells": [
  {
   "cell_type": "code",
   "execution_count": 1,
   "id": "4fe94b99",
   "metadata": {},
   "outputs": [],
   "source": [
    "import pandas as pd\n",
    "import numpy as np\n",
    "import matplotlib.pyplot as plt"
   ]
  },
  {
   "cell_type": "code",
   "execution_count": 2,
   "id": "a537f3da",
   "metadata": {},
   "outputs": [
    {
     "data": {
      "text/plain": [
       "(70, 6)"
      ]
     },
     "execution_count": 2,
     "metadata": {},
     "output_type": "execute_result"
    }
   ],
   "source": [
    "data = pd.read_csv('Dados - ProjetoSociologia.csv')\n",
    "\n",
    "data.shape"
   ]
  },
  {
   "cell_type": "code",
   "execution_count": 3,
   "id": "a39351ea",
   "metadata": {},
   "outputs": [
    {
     "data": {
      "text/html": [
       "<div>\n",
       "<style scoped>\n",
       "    .dataframe tbody tr th:only-of-type {\n",
       "        vertical-align: middle;\n",
       "    }\n",
       "\n",
       "    .dataframe tbody tr th {\n",
       "        vertical-align: top;\n",
       "    }\n",
       "\n",
       "    .dataframe thead th {\n",
       "        text-align: right;\n",
       "    }\n",
       "</style>\n",
       "<table border=\"1\" class=\"dataframe\">\n",
       "  <thead>\n",
       "    <tr style=\"text-align: right;\">\n",
       "      <th></th>\n",
       "      <th>Carimbo de data/hora</th>\n",
       "      <th>A sola do seu tênis suja muito quando você sai de casa?</th>\n",
       "      <th>Você costuma lavar o seu tênis?</th>\n",
       "      <th>Você anda em casa com o tênis calçado?</th>\n",
       "      <th>Qual tipo de tênis você mais usa?</th>\n",
       "      <th>Você compraria um tênis com solas trocáveis?</th>\n",
       "    </tr>\n",
       "  </thead>\n",
       "  <tbody>\n",
       "    <tr>\n",
       "      <th>0</th>\n",
       "      <td>2021/11/16 12:17:48 AM GMT-3</td>\n",
       "      <td>Sim</td>\n",
       "      <td>Sim</td>\n",
       "      <td>Não</td>\n",
       "      <td>Casual</td>\n",
       "      <td>Sim</td>\n",
       "    </tr>\n",
       "    <tr>\n",
       "      <th>1</th>\n",
       "      <td>2021/11/16 12:18:11 AM GMT-3</td>\n",
       "      <td>Sim</td>\n",
       "      <td>Não</td>\n",
       "      <td>Não</td>\n",
       "      <td>Casual</td>\n",
       "      <td>Sim</td>\n",
       "    </tr>\n",
       "    <tr>\n",
       "      <th>2</th>\n",
       "      <td>2021/11/16 12:18:31 AM GMT-3</td>\n",
       "      <td>Sim</td>\n",
       "      <td>Sim</td>\n",
       "      <td>Sim</td>\n",
       "      <td>Casual</td>\n",
       "      <td>Não</td>\n",
       "    </tr>\n",
       "    <tr>\n",
       "      <th>3</th>\n",
       "      <td>2021/11/16 12:18:51 AM GMT-3</td>\n",
       "      <td>Sim</td>\n",
       "      <td>Não</td>\n",
       "      <td>Não</td>\n",
       "      <td>Casual</td>\n",
       "      <td>Não</td>\n",
       "    </tr>\n",
       "    <tr>\n",
       "      <th>4</th>\n",
       "      <td>2021/11/16 12:19:06 AM GMT-3</td>\n",
       "      <td>Sim</td>\n",
       "      <td>Não</td>\n",
       "      <td>Não</td>\n",
       "      <td>Esportivo</td>\n",
       "      <td>Sim</td>\n",
       "    </tr>\n",
       "  </tbody>\n",
       "</table>\n",
       "</div>"
      ],
      "text/plain": [
       "           Carimbo de data/hora  \\\n",
       "0  2021/11/16 12:17:48 AM GMT-3   \n",
       "1  2021/11/16 12:18:11 AM GMT-3   \n",
       "2  2021/11/16 12:18:31 AM GMT-3   \n",
       "3  2021/11/16 12:18:51 AM GMT-3   \n",
       "4  2021/11/16 12:19:06 AM GMT-3   \n",
       "\n",
       "  A sola do seu tênis suja muito quando você sai de casa?  \\\n",
       "0                                                Sim        \n",
       "1                                                Sim        \n",
       "2                                                Sim        \n",
       "3                                                Sim        \n",
       "4                                                Sim        \n",
       "\n",
       "  Você costuma lavar o seu tênis? Você anda em casa com o tênis calçado?  \\\n",
       "0                             Sim                                    Não   \n",
       "1                             Não                                    Não   \n",
       "2                             Sim                                    Sim   \n",
       "3                             Não                                    Não   \n",
       "4                             Não                                    Não   \n",
       "\n",
       "  Qual tipo de tênis você mais usa?  \\\n",
       "0                            Casual   \n",
       "1                            Casual   \n",
       "2                            Casual   \n",
       "3                            Casual   \n",
       "4                         Esportivo   \n",
       "\n",
       "  Você compraria um tênis com solas trocáveis?  \n",
       "0                                          Sim  \n",
       "1                                          Sim  \n",
       "2                                          Não  \n",
       "3                                          Não  \n",
       "4                                          Sim  "
      ]
     },
     "execution_count": 3,
     "metadata": {},
     "output_type": "execute_result"
    }
   ],
   "source": [
    "data.head()"
   ]
  },
  {
   "cell_type": "code",
   "execution_count": 4,
   "id": "5e29e480",
   "metadata": {},
   "outputs": [],
   "source": [
    "data.columns = ['apagar' ,'DirtyShoes', 'WashShoes', 'ShoesAtHome', 'ShoesType', 'BuySustShoes']"
   ]
  },
  {
   "cell_type": "code",
   "execution_count": 5,
   "id": "af4055f8",
   "metadata": {},
   "outputs": [],
   "source": [
    "data = data.drop(['apagar'], axis=1)"
   ]
  },
  {
   "cell_type": "code",
   "execution_count": 6,
   "id": "e1f6e1ef",
   "metadata": {},
   "outputs": [
    {
     "name": "stdout",
     "output_type": "stream",
     "text": [
      "\n",
      "Pessoas que sujam muito o tenis:\n",
      " DirtyShoes\n",
      "Não    20\n",
      "Sim    50\n",
      "dtype: int64\n",
      "\n",
      "Pessoas que costuma lavar o tenis:\n",
      " WashShoes\n",
      "Não    15\n",
      "Sim    55\n",
      "dtype: int64\n",
      "\n",
      "Pessoas que usam tenis em casa:\n",
      " ShoesAtHome\n",
      "Não    60\n",
      "Sim    10\n",
      "dtype: int64\n",
      "\n",
      "Preferencia do tipo de tenis:\n",
      " ShoesType\n",
      "Casual       37\n",
      "Esportivo    33\n",
      "dtype: int64\n",
      "\n",
      "Pessoas que comprariam o tenis:\n",
      " BuySustShoes\n",
      "Não    16\n",
      "Sim    54\n",
      "dtype: int64\n",
      "\n"
     ]
    }
   ],
   "source": [
    "dirty_shoes = data.groupby(['DirtyShoes']).size()\n",
    "wash_shoes = data.groupby(['WashShoes']).size()\n",
    "shoes_at_home = data.groupby(['ShoesAtHome']).size()\n",
    "shoes_type = data.groupby(['ShoesType']).size()\n",
    "buy_shoes = data.groupby(['BuySustShoes']).size()\n",
    "\n",
    "print(f'''\n",
    "Pessoas que sujam muito o tenis:\\n {dirty_shoes}\\n\n",
    "Pessoas que costuma lavar o tenis:\\n {wash_shoes}\\n\n",
    "Pessoas que usam tenis em casa:\\n {shoes_at_home}\\n\n",
    "Preferencia do tipo de tenis:\\n {shoes_type}\\n\n",
    "Pessoas que comprariam o tenis:\\n {buy_shoes}\n",
    "''')"
   ]
  },
  {
   "cell_type": "code",
   "execution_count": 7,
   "id": "2931aa92",
   "metadata": {},
   "outputs": [
    {
     "data": {
      "image/png": "[encoded data removed]",
      "text/plain": [
       "<Figure size 720x576 with 4 Axes>"
      ]
     },
     "metadata": {
      "needs_background": "light"
     },
     "output_type": "display_data"
    }
   ],
   "source": [
    "plt.figure(figsize=(10, 8))\n",
    "plt.subplot(2, 2, 1)\n",
    "dirty_shoes.plot.bar(color='steelblue')\n",
    "plt.title('Sujam muito o tenis')\n",
    "plt.xticks(rotation=0)\n",
    "\n",
    "plt.subplot(2, 2, 2)\n",
    "wash_shoes.plot.bar(color='cadetblue')\n",
    "plt.title('Costumam lavar o tenis')\n",
    "plt.xticks(rotation=0)\n",
    "\n",
    "plt.subplot(2, 2, 3)\n",
    "shoes_type.plot.bar(color='teal')\n",
    "plt.title('Preferencia por tipo de tenis')\n",
    "plt.xticks(rotation=0)\n",
    "\n",
    "plt.subplot(2, 2, 4)\n",
    "buy_shoes.plot.bar(color='darkturquoise')\n",
    "plt.title('Comprariam o tenis sustentavel')\n",
    "plt.xticks(rotation=0)\n",
    "\n",
    "plt.tight_layout()"
   ]
  }
 ],
 "metadata": {
  "kernelspec": {
   "display_name": "Python 3",
   "language": "python",
   "name": "python3"
  },
  "language_info": {
   "codemirror_mode": {
    "name": "ipython",
    "version": 3
   },
   "file_extension": ".py",
   "mimetype": "text/x-python",
   "name": "python",
   "nbconvert_exporter": "python",
   "pygments_lexer": "ipython3",
   "version": "3.8.8"
  }
 },
 "nbformat": 4,
 "nbformat_minor": 5
}
